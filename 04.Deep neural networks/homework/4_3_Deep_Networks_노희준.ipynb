{
 "cells": [
  {
   "cell_type": "markdown",
   "metadata": {
    "colab_type": "text",
    "id": "view-in-github"
   },
   "source": [
    "<a href=\"https://colab.research.google.com/github/udlbook/udlbook/blob/main/Notebooks/Chap04/4_3_Deep_Networks.ipynb\" target=\"_parent\"><img src=\"https://colab.research.google.com/assets/colab-badge.svg\" alt=\"Open In Colab\"/></a>"
   ]
  },
  {
   "cell_type": "markdown",
   "metadata": {
    "id": "MaKn8CFlzN8E"
   },
   "source": [
    "# **Notebook 4.3 Deep neural networks**\n",
    "\n",
    "This network investigates converting neural networks to matrix form.\n",
    "\n",
    "Work through the cells below, running each cell in turn. In various places you will see the words \"TO DO\". Follow the instructions at these places and make predictions about what is going to happen or write code to complete the functions.\n",
    "\n",
    "Contact me at udlbookmail@gmail.com if you find any mistakes or have any suggestions."
   ]
  },
  {
   "cell_type": "code",
   "execution_count": 1,
   "metadata": {
    "id": "8ClURpZQzI6L"
   },
   "outputs": [],
   "source": [
    "# Imports math library\n",
    "import numpy as np\n",
    "# Imports plotting library\n",
    "import matplotlib.pyplot as plt"
   ]
  },
  {
   "cell_type": "code",
   "execution_count": 2,
   "metadata": {
    "id": "YdmveeAUz4YG"
   },
   "outputs": [],
   "source": [
    "# Define the Rectified Linear Unit (ReLU) function\n",
    "def ReLU(preactivation):\n",
    "  activation = preactivation.clip(0.0)\n",
    "  return activation"
   ]
  },
  {
   "cell_type": "code",
   "execution_count": 3,
   "metadata": {
    "id": "ximCLwIfz8kj"
   },
   "outputs": [],
   "source": [
    "# Define a shallow neural network with, one input, one output, and three hidden units\n",
    "def shallow_1_1_3(x, activation_fn, phi_0,phi_1,phi_2,phi_3, theta_10, theta_11, theta_20, theta_21, theta_30, theta_31):\n",
    "  # Initial lines\n",
    "  pre_1 = theta_10 + theta_11 * x\n",
    "  pre_2 = theta_20 + theta_21 * x\n",
    "  pre_3 = theta_30 + theta_31 * x\n",
    "  # Activation functions\n",
    "  act_1 = activation_fn(pre_1)\n",
    "  act_2 = activation_fn(pre_2)\n",
    "  act_3 = activation_fn(pre_3)\n",
    "  # Weight activations\n",
    "  w_act_1 = phi_1 * act_1\n",
    "  w_act_2 = phi_2 * act_2\n",
    "  w_act_3 = phi_3 * act_3\n",
    "  # Combine weighted activation and add y offset\n",
    "  y = phi_0 + w_act_1 + w_act_2 + w_act_3\n",
    "  # Return everything we have calculated\n",
    "  return y, pre_1, pre_2, pre_3, act_1, act_2, act_3, w_act_1, w_act_2, w_act_3"
   ]
  },
  {
   "cell_type": "code",
   "execution_count": 4,
   "metadata": {
    "id": "btrt7BX20gKD"
   },
   "outputs": [],
   "source": [
    "# # Plot the shallow neural network.  We'll assume input in is range [-1,1] and output [-1,1]\n",
    "def plot_neural(x, y):\n",
    "  fig, ax = plt.subplots()\n",
    "  ax.plot(x.T,y.T)\n",
    "  ax.set_xlabel('Input'); ax.set_ylabel('Output')\n",
    "  ax.set_xlim([-1,1]);ax.set_ylim([-1,1])\n",
    "  ax.set_aspect(1.0)\n",
    "  plt.show()"
   ]
  },
  {
   "cell_type": "markdown",
   "metadata": {
    "id": "LxBJCObC-NTY"
   },
   "source": [
    "Let's define a network.  We'll just consider the inputs and outputs over the range [-1,1].  If you set the \"plot_all\" flat to True,  you can see the details of how it was created."
   ]
  },
  {
   "cell_type": "code",
   "execution_count": 5,
   "metadata": {
    "id": "JRebvurv22pT",
    "scrolled": true
   },
   "outputs": [
    {
     "data": {
      "image/png": "[encoded data removed]",
      "text/plain": [
       "<Figure size 432x288 with 1 Axes>"
      ]
     },
     "metadata": {
      "needs_background": "light"
     },
     "output_type": "display_data"
    }
   ],
   "source": [
    "# Now lets define some parameters and run the first neural network\n",
    "n1_theta_10 = 0.0   ; n1_theta_11 = -1.0\n",
    "n1_theta_20 = 0     ; n1_theta_21 = 1.0\n",
    "n1_theta_30 = -0.67 ; n1_theta_31 =  1.0\n",
    "n1_phi_0 = 1.0; n1_phi_1 = -2.0; n1_phi_2 = -3.0; n1_phi_3 = 9.3\n",
    "\n",
    "# Define a range of input values\n",
    "n1_in = np.arange(-1,1,0.01).reshape([1,-1])\n",
    "\n",
    "# We run the neural network for each of these input values\n",
    "n1_out, *_ = shallow_1_1_3(n1_in, ReLU, n1_phi_0, n1_phi_1, n1_phi_2, n1_phi_3, n1_theta_10, n1_theta_11, n1_theta_20, n1_theta_21, n1_theta_30, n1_theta_31)\n",
    "# And then plot it\n",
    "plot_neural(n1_in, n1_out)"
   ]
  },
  {
   "cell_type": "markdown",
   "metadata": {
    "id": "XCJqo_AjfAra"
   },
   "source": [
    "Now we'll define the same neural network, but this time, we will  use matrix form.  When you get this right, it will draw the same plot as above."
   ]
  },
  {
   "cell_type": "code",
   "execution_count": 6,
   "metadata": {
    "id": "MR0AecZYfACR"
   },
   "outputs": [
    {
     "data": {
      "image/png": "[encoded data removed]",
      "text/plain": [
       "<Figure size 432x288 with 1 Axes>"
      ]
     },
     "metadata": {
      "needs_background": "light"
     },
     "output_type": "display_data"
    }
   ],
   "source": [
    "beta_0 = np.zeros((3,1))\n",
    "Omega_0 = np.zeros((3,1))\n",
    "beta_1 = np.zeros((1,1))\n",
    "Omega_1 = np.zeros((1,3))\n",
    "\n",
    "# TODO Fill in the values of the beta and Omega matrices with the n1_theta and n1_phi parameters that define the network above\n",
    "# !!! NOTE THAT MATRICES ARE CONVENTIONALLY INDEXED WITH a_11 IN THE TOP LEFT CORNER, BUT NDARRAYS START AT [0,0]\n",
    "# To get you started I've filled in a couple:\n",
    "beta_0[0,0] = n1_theta_10\n",
    "beta_0[1,0] = n1_theta_20\n",
    "beta_0[2,0] = n1_theta_30\n",
    "\n",
    "Omega_0[0,0] = n1_theta_11\n",
    "Omega_0[1,0] = n1_theta_21\n",
    "Omega_0[2,0] = n1_theta_31\n",
    "\n",
    "beta_1[0,0] = n1_phi_0\n",
    "Omega_1[0,:] = np.array([n1_phi_1, n1_phi_2, n1_phi_3])\n",
    "\n",
    "# Make sure that input data matrix has different inputs in its columns\n",
    "n_data = n1_in.size\n",
    "n_dim_in = 1\n",
    "n1_in_mat = np.reshape(n1_in,(n_dim_in,n_data))\n",
    "\n",
    "# This runs the network for ALL of the inputs, x at once so we can draw graph\n",
    "h1 = ReLU(np.matmul(beta_0,np.ones((1,n_data))) + np.matmul(Omega_0,n1_in_mat))\n",
    "n1_out = np.matmul(beta_1,np.ones((1,n_data))) + np.matmul(Omega_1,h1)\n",
    "\n",
    "# Draw the network and check that it looks the same as the non-matrix case\n",
    "plot_neural(n1_in, n1_out)"
   ]
  },
  {
   "cell_type": "code",
   "execution_count": 7,
   "metadata": {},
   "outputs": [
    {
     "data": {
      "text/plain": [
       "(1, 200)"
      ]
     },
     "execution_count": 7,
     "metadata": {},
     "output_type": "execute_result"
    }
   ],
   "source": [
    "np.ones((1,n_data)).shape"
   ]
  },
  {
   "cell_type": "code",
   "execution_count": 8,
   "metadata": {},
   "outputs": [
    {
     "data": {
      "text/plain": [
       "(3, 200)"
      ]
     },
     "execution_count": 8,
     "metadata": {},
     "output_type": "execute_result"
    }
   ],
   "source": [
    "h1.shape"
   ]
  },
  {
   "cell_type": "code",
   "execution_count": 9,
   "metadata": {},
   "outputs": [
    {
     "data": {
      "text/plain": [
       "array([[ 1.00000000e+00,  9.90000000e-01,  9.80000000e-01,\n",
       "         9.70000000e-01,  9.60000000e-01,  9.50000000e-01,\n",
       "         9.40000000e-01,  9.30000000e-01,  9.20000000e-01,\n",
       "         9.10000000e-01,  9.00000000e-01,  8.90000000e-01,\n",
       "         8.80000000e-01,  8.70000000e-01,  8.60000000e-01,\n",
       "         8.50000000e-01,  8.40000000e-01,  8.30000000e-01,\n",
       "         8.20000000e-01,  8.10000000e-01,  8.00000000e-01,\n",
       "         7.90000000e-01,  7.80000000e-01,  7.70000000e-01,\n",
       "         7.60000000e-01,  7.50000000e-01,  7.40000000e-01,\n",
       "         7.30000000e-01,  7.20000000e-01,  7.10000000e-01,\n",
       "         7.00000000e-01,  6.90000000e-01,  6.80000000e-01,\n",
       "         6.70000000e-01,  6.60000000e-01,  6.50000000e-01,\n",
       "         6.40000000e-01,  6.30000000e-01,  6.20000000e-01,\n",
       "         6.10000000e-01,  6.00000000e-01,  5.90000000e-01,\n",
       "         5.80000000e-01,  5.70000000e-01,  5.60000000e-01,\n",
       "         5.50000000e-01,  5.40000000e-01,  5.30000000e-01,\n",
       "         5.20000000e-01,  5.10000000e-01,  5.00000000e-01,\n",
       "         4.90000000e-01,  4.80000000e-01,  4.70000000e-01,\n",
       "         4.60000000e-01,  4.50000000e-01,  4.40000000e-01,\n",
       "         4.30000000e-01,  4.20000000e-01,  4.10000000e-01,\n",
       "         4.00000000e-01,  3.90000000e-01,  3.80000000e-01,\n",
       "         3.70000000e-01,  3.60000000e-01,  3.50000000e-01,\n",
       "         3.40000000e-01,  3.30000000e-01,  3.20000000e-01,\n",
       "         3.10000000e-01,  3.00000000e-01,  2.90000000e-01,\n",
       "         2.80000000e-01,  2.70000000e-01,  2.60000000e-01,\n",
       "         2.50000000e-01,  2.40000000e-01,  2.30000000e-01,\n",
       "         2.20000000e-01,  2.10000000e-01,  2.00000000e-01,\n",
       "         1.90000000e-01,  1.80000000e-01,  1.70000000e-01,\n",
       "         1.60000000e-01,  1.50000000e-01,  1.40000000e-01,\n",
       "         1.30000000e-01,  1.20000000e-01,  1.10000000e-01,\n",
       "         1.00000000e-01,  9.00000000e-02,  8.00000000e-02,\n",
       "         7.00000000e-02,  6.00000000e-02,  5.00000000e-02,\n",
       "         4.00000000e-02,  3.00000000e-02,  2.00000000e-02,\n",
       "         1.00000000e-02, -8.88178420e-16, -1.00000000e-02,\n",
       "        -2.00000000e-02, -3.00000000e-02, -4.00000000e-02,\n",
       "        -5.00000000e-02, -6.00000000e-02, -7.00000000e-02,\n",
       "        -8.00000000e-02, -9.00000000e-02, -1.00000000e-01,\n",
       "        -1.10000000e-01, -1.20000000e-01, -1.30000000e-01,\n",
       "        -1.40000000e-01, -1.50000000e-01, -1.60000000e-01,\n",
       "        -1.70000000e-01, -1.80000000e-01, -1.90000000e-01,\n",
       "        -2.00000000e-01, -2.10000000e-01, -2.20000000e-01,\n",
       "        -2.30000000e-01, -2.40000000e-01, -2.50000000e-01,\n",
       "        -2.60000000e-01, -2.70000000e-01, -2.80000000e-01,\n",
       "        -2.90000000e-01, -3.00000000e-01, -3.10000000e-01,\n",
       "        -3.20000000e-01, -3.30000000e-01, -3.40000000e-01,\n",
       "        -3.50000000e-01, -3.60000000e-01, -3.70000000e-01,\n",
       "        -3.80000000e-01, -3.90000000e-01, -4.00000000e-01,\n",
       "        -4.10000000e-01, -4.20000000e-01, -4.30000000e-01,\n",
       "        -4.40000000e-01, -4.50000000e-01, -4.60000000e-01,\n",
       "        -4.70000000e-01, -4.80000000e-01, -4.90000000e-01,\n",
       "        -5.00000000e-01, -5.10000000e-01, -5.20000000e-01,\n",
       "        -5.30000000e-01, -5.40000000e-01, -5.50000000e-01,\n",
       "        -5.60000000e-01, -5.70000000e-01, -5.80000000e-01,\n",
       "        -5.90000000e-01, -6.00000000e-01, -6.10000000e-01,\n",
       "        -6.20000000e-01, -6.30000000e-01, -6.40000000e-01,\n",
       "        -6.50000000e-01, -6.60000000e-01, -6.70000000e-01,\n",
       "        -6.80000000e-01, -6.90000000e-01, -7.00000000e-01,\n",
       "        -7.10000000e-01, -7.20000000e-01, -7.30000000e-01,\n",
       "        -7.40000000e-01, -7.50000000e-01, -7.60000000e-01,\n",
       "        -7.70000000e-01, -7.80000000e-01, -7.90000000e-01,\n",
       "        -8.00000000e-01, -8.10000000e-01, -8.20000000e-01,\n",
       "        -8.30000000e-01, -8.40000000e-01, -8.50000000e-01,\n",
       "        -8.60000000e-01, -8.70000000e-01, -8.80000000e-01,\n",
       "        -8.90000000e-01, -9.00000000e-01, -9.10000000e-01,\n",
       "        -9.20000000e-01, -9.30000000e-01, -9.40000000e-01,\n",
       "        -9.50000000e-01, -9.60000000e-01, -9.70000000e-01,\n",
       "        -9.80000000e-01, -9.90000000e-01],\n",
       "       [-1.00000000e+00, -9.90000000e-01, -9.80000000e-01,\n",
       "        -9.70000000e-01, -9.60000000e-01, -9.50000000e-01,\n",
       "        -9.40000000e-01, -9.30000000e-01, -9.20000000e-01,\n",
       "        -9.10000000e-01, -9.00000000e-01, -8.90000000e-01,\n",
       "        -8.80000000e-01, -8.70000000e-01, -8.60000000e-01,\n",
       "        -8.50000000e-01, -8.40000000e-01, -8.30000000e-01,\n",
       "        -8.20000000e-01, -8.10000000e-01, -8.00000000e-01,\n",
       "        -7.90000000e-01, -7.80000000e-01, -7.70000000e-01,\n",
       "        -7.60000000e-01, -7.50000000e-01, -7.40000000e-01,\n",
       "        -7.30000000e-01, -7.20000000e-01, -7.10000000e-01,\n",
       "        -7.00000000e-01, -6.90000000e-01, -6.80000000e-01,\n",
       "        -6.70000000e-01, -6.60000000e-01, -6.50000000e-01,\n",
       "        -6.40000000e-01, -6.30000000e-01, -6.20000000e-01,\n",
       "        -6.10000000e-01, -6.00000000e-01, -5.90000000e-01,\n",
       "        -5.80000000e-01, -5.70000000e-01, -5.60000000e-01,\n",
       "        -5.50000000e-01, -5.40000000e-01, -5.30000000e-01,\n",
       "        -5.20000000e-01, -5.10000000e-01, -5.00000000e-01,\n",
       "        -4.90000000e-01, -4.80000000e-01, -4.70000000e-01,\n",
       "        -4.60000000e-01, -4.50000000e-01, -4.40000000e-01,\n",
       "        -4.30000000e-01, -4.20000000e-01, -4.10000000e-01,\n",
       "        -4.00000000e-01, -3.90000000e-01, -3.80000000e-01,\n",
       "        -3.70000000e-01, -3.60000000e-01, -3.50000000e-01,\n",
       "        -3.40000000e-01, -3.30000000e-01, -3.20000000e-01,\n",
       "        -3.10000000e-01, -3.00000000e-01, -2.90000000e-01,\n",
       "        -2.80000000e-01, -2.70000000e-01, -2.60000000e-01,\n",
       "        -2.50000000e-01, -2.40000000e-01, -2.30000000e-01,\n",
       "        -2.20000000e-01, -2.10000000e-01, -2.00000000e-01,\n",
       "        -1.90000000e-01, -1.80000000e-01, -1.70000000e-01,\n",
       "        -1.60000000e-01, -1.50000000e-01, -1.40000000e-01,\n",
       "        -1.30000000e-01, -1.20000000e-01, -1.10000000e-01,\n",
       "        -1.00000000e-01, -9.00000000e-02, -8.00000000e-02,\n",
       "        -7.00000000e-02, -6.00000000e-02, -5.00000000e-02,\n",
       "        -4.00000000e-02, -3.00000000e-02, -2.00000000e-02,\n",
       "        -1.00000000e-02,  8.88178420e-16,  1.00000000e-02,\n",
       "         2.00000000e-02,  3.00000000e-02,  4.00000000e-02,\n",
       "         5.00000000e-02,  6.00000000e-02,  7.00000000e-02,\n",
       "         8.00000000e-02,  9.00000000e-02,  1.00000000e-01,\n",
       "         1.10000000e-01,  1.20000000e-01,  1.30000000e-01,\n",
       "         1.40000000e-01,  1.50000000e-01,  1.60000000e-01,\n",
       "         1.70000000e-01,  1.80000000e-01,  1.90000000e-01,\n",
       "         2.00000000e-01,  2.10000000e-01,  2.20000000e-01,\n",
       "         2.30000000e-01,  2.40000000e-01,  2.50000000e-01,\n",
       "         2.60000000e-01,  2.70000000e-01,  2.80000000e-01,\n",
       "         2.90000000e-01,  3.00000000e-01,  3.10000000e-01,\n",
       "         3.20000000e-01,  3.30000000e-01,  3.40000000e-01,\n",
       "         3.50000000e-01,  3.60000000e-01,  3.70000000e-01,\n",
       "         3.80000000e-01,  3.90000000e-01,  4.00000000e-01,\n",
       "         4.10000000e-01,  4.20000000e-01,  4.30000000e-01,\n",
       "         4.40000000e-01,  4.50000000e-01,  4.60000000e-01,\n",
       "         4.70000000e-01,  4.80000000e-01,  4.90000000e-01,\n",
       "         5.00000000e-01,  5.10000000e-01,  5.20000000e-01,\n",
       "         5.30000000e-01,  5.40000000e-01,  5.50000000e-01,\n",
       "         5.60000000e-01,  5.70000000e-01,  5.80000000e-01,\n",
       "         5.90000000e-01,  6.00000000e-01,  6.10000000e-01,\n",
       "         6.20000000e-01,  6.30000000e-01,  6.40000000e-01,\n",
       "         6.50000000e-01,  6.60000000e-01,  6.70000000e-01,\n",
       "         6.80000000e-01,  6.90000000e-01,  7.00000000e-01,\n",
       "         7.10000000e-01,  7.20000000e-01,  7.30000000e-01,\n",
       "         7.40000000e-01,  7.50000000e-01,  7.60000000e-01,\n",
       "         7.70000000e-01,  7.80000000e-01,  7.90000000e-01,\n",
       "         8.00000000e-01,  8.10000000e-01,  8.20000000e-01,\n",
       "         8.30000000e-01,  8.40000000e-01,  8.50000000e-01,\n",
       "         8.60000000e-01,  8.70000000e-01,  8.80000000e-01,\n",
       "         8.90000000e-01,  9.00000000e-01,  9.10000000e-01,\n",
       "         9.20000000e-01,  9.30000000e-01,  9.40000000e-01,\n",
       "         9.50000000e-01,  9.60000000e-01,  9.70000000e-01,\n",
       "         9.80000000e-01,  9.90000000e-01],\n",
       "       [-1.67000000e+00, -1.66000000e+00, -1.65000000e+00,\n",
       "        -1.64000000e+00, -1.63000000e+00, -1.62000000e+00,\n",
       "        -1.61000000e+00, -1.60000000e+00, -1.59000000e+00,\n",
       "        -1.58000000e+00, -1.57000000e+00, -1.56000000e+00,\n",
       "        -1.55000000e+00, -1.54000000e+00, -1.53000000e+00,\n",
       "        -1.52000000e+00, -1.51000000e+00, -1.50000000e+00,\n",
       "        -1.49000000e+00, -1.48000000e+00, -1.47000000e+00,\n",
       "        -1.46000000e+00, -1.45000000e+00, -1.44000000e+00,\n",
       "        -1.43000000e+00, -1.42000000e+00, -1.41000000e+00,\n",
       "        -1.40000000e+00, -1.39000000e+00, -1.38000000e+00,\n",
       "        -1.37000000e+00, -1.36000000e+00, -1.35000000e+00,\n",
       "        -1.34000000e+00, -1.33000000e+00, -1.32000000e+00,\n",
       "        -1.31000000e+00, -1.30000000e+00, -1.29000000e+00,\n",
       "        -1.28000000e+00, -1.27000000e+00, -1.26000000e+00,\n",
       "        -1.25000000e+00, -1.24000000e+00, -1.23000000e+00,\n",
       "        -1.22000000e+00, -1.21000000e+00, -1.20000000e+00,\n",
       "        -1.19000000e+00, -1.18000000e+00, -1.17000000e+00,\n",
       "        -1.16000000e+00, -1.15000000e+00, -1.14000000e+00,\n",
       "        -1.13000000e+00, -1.12000000e+00, -1.11000000e+00,\n",
       "        -1.10000000e+00, -1.09000000e+00, -1.08000000e+00,\n",
       "        -1.07000000e+00, -1.06000000e+00, -1.05000000e+00,\n",
       "        -1.04000000e+00, -1.03000000e+00, -1.02000000e+00,\n",
       "        -1.01000000e+00, -1.00000000e+00, -9.90000000e-01,\n",
       "        -9.80000000e-01, -9.70000000e-01, -9.60000000e-01,\n",
       "        -9.50000000e-01, -9.40000000e-01, -9.30000000e-01,\n",
       "        -9.20000000e-01, -9.10000000e-01, -9.00000000e-01,\n",
       "        -8.90000000e-01, -8.80000000e-01, -8.70000000e-01,\n",
       "        -8.60000000e-01, -8.50000000e-01, -8.40000000e-01,\n",
       "        -8.30000000e-01, -8.20000000e-01, -8.10000000e-01,\n",
       "        -8.00000000e-01, -7.90000000e-01, -7.80000000e-01,\n",
       "        -7.70000000e-01, -7.60000000e-01, -7.50000000e-01,\n",
       "        -7.40000000e-01, -7.30000000e-01, -7.20000000e-01,\n",
       "        -7.10000000e-01, -7.00000000e-01, -6.90000000e-01,\n",
       "        -6.80000000e-01, -6.70000000e-01, -6.60000000e-01,\n",
       "        -6.50000000e-01, -6.40000000e-01, -6.30000000e-01,\n",
       "        -6.20000000e-01, -6.10000000e-01, -6.00000000e-01,\n",
       "        -5.90000000e-01, -5.80000000e-01, -5.70000000e-01,\n",
       "        -5.60000000e-01, -5.50000000e-01, -5.40000000e-01,\n",
       "        -5.30000000e-01, -5.20000000e-01, -5.10000000e-01,\n",
       "        -5.00000000e-01, -4.90000000e-01, -4.80000000e-01,\n",
       "        -4.70000000e-01, -4.60000000e-01, -4.50000000e-01,\n",
       "        -4.40000000e-01, -4.30000000e-01, -4.20000000e-01,\n",
       "        -4.10000000e-01, -4.00000000e-01, -3.90000000e-01,\n",
       "        -3.80000000e-01, -3.70000000e-01, -3.60000000e-01,\n",
       "        -3.50000000e-01, -3.40000000e-01, -3.30000000e-01,\n",
       "        -3.20000000e-01, -3.10000000e-01, -3.00000000e-01,\n",
       "        -2.90000000e-01, -2.80000000e-01, -2.70000000e-01,\n",
       "        -2.60000000e-01, -2.50000000e-01, -2.40000000e-01,\n",
       "        -2.30000000e-01, -2.20000000e-01, -2.10000000e-01,\n",
       "        -2.00000000e-01, -1.90000000e-01, -1.80000000e-01,\n",
       "        -1.70000000e-01, -1.60000000e-01, -1.50000000e-01,\n",
       "        -1.40000000e-01, -1.30000000e-01, -1.20000000e-01,\n",
       "        -1.10000000e-01, -1.00000000e-01, -9.00000000e-02,\n",
       "        -8.00000000e-02, -7.00000000e-02, -6.00000000e-02,\n",
       "        -5.00000000e-02, -4.00000000e-02, -3.00000000e-02,\n",
       "        -2.00000000e-02, -1.00000000e-02,  1.44328993e-15,\n",
       "         1.00000000e-02,  2.00000000e-02,  3.00000000e-02,\n",
       "         4.00000000e-02,  5.00000000e-02,  6.00000000e-02,\n",
       "         7.00000000e-02,  8.00000000e-02,  9.00000000e-02,\n",
       "         1.00000000e-01,  1.10000000e-01,  1.20000000e-01,\n",
       "         1.30000000e-01,  1.40000000e-01,  1.50000000e-01,\n",
       "         1.60000000e-01,  1.70000000e-01,  1.80000000e-01,\n",
       "         1.90000000e-01,  2.00000000e-01,  2.10000000e-01,\n",
       "         2.20000000e-01,  2.30000000e-01,  2.40000000e-01,\n",
       "         2.50000000e-01,  2.60000000e-01,  2.70000000e-01,\n",
       "         2.80000000e-01,  2.90000000e-01,  3.00000000e-01,\n",
       "         3.10000000e-01,  3.20000000e-01]])"
      ]
     },
     "execution_count": 9,
     "metadata": {},
     "output_type": "execute_result"
    }
   ],
   "source": [
    "beta_0 + Omega_0@n1_in_mat"
   ]
  },
  {
   "cell_type": "code",
   "execution_count": 10,
   "metadata": {},
   "outputs": [
    {
     "data": {
      "text/plain": [
       "array([[ 1.00000000e+00,  9.90000000e-01,  9.80000000e-01,\n",
       "         9.70000000e-01,  9.60000000e-01,  9.50000000e-01,\n",
       "         9.40000000e-01,  9.30000000e-01,  9.20000000e-01,\n",
       "         9.10000000e-01,  9.00000000e-01,  8.90000000e-01,\n",
       "         8.80000000e-01,  8.70000000e-01,  8.60000000e-01,\n",
       "         8.50000000e-01,  8.40000000e-01,  8.30000000e-01,\n",
       "         8.20000000e-01,  8.10000000e-01,  8.00000000e-01,\n",
       "         7.90000000e-01,  7.80000000e-01,  7.70000000e-01,\n",
       "         7.60000000e-01,  7.50000000e-01,  7.40000000e-01,\n",
       "         7.30000000e-01,  7.20000000e-01,  7.10000000e-01,\n",
       "         7.00000000e-01,  6.90000000e-01,  6.80000000e-01,\n",
       "         6.70000000e-01,  6.60000000e-01,  6.50000000e-01,\n",
       "         6.40000000e-01,  6.30000000e-01,  6.20000000e-01,\n",
       "         6.10000000e-01,  6.00000000e-01,  5.90000000e-01,\n",
       "         5.80000000e-01,  5.70000000e-01,  5.60000000e-01,\n",
       "         5.50000000e-01,  5.40000000e-01,  5.30000000e-01,\n",
       "         5.20000000e-01,  5.10000000e-01,  5.00000000e-01,\n",
       "         4.90000000e-01,  4.80000000e-01,  4.70000000e-01,\n",
       "         4.60000000e-01,  4.50000000e-01,  4.40000000e-01,\n",
       "         4.30000000e-01,  4.20000000e-01,  4.10000000e-01,\n",
       "         4.00000000e-01,  3.90000000e-01,  3.80000000e-01,\n",
       "         3.70000000e-01,  3.60000000e-01,  3.50000000e-01,\n",
       "         3.40000000e-01,  3.30000000e-01,  3.20000000e-01,\n",
       "         3.10000000e-01,  3.00000000e-01,  2.90000000e-01,\n",
       "         2.80000000e-01,  2.70000000e-01,  2.60000000e-01,\n",
       "         2.50000000e-01,  2.40000000e-01,  2.30000000e-01,\n",
       "         2.20000000e-01,  2.10000000e-01,  2.00000000e-01,\n",
       "         1.90000000e-01,  1.80000000e-01,  1.70000000e-01,\n",
       "         1.60000000e-01,  1.50000000e-01,  1.40000000e-01,\n",
       "         1.30000000e-01,  1.20000000e-01,  1.10000000e-01,\n",
       "         1.00000000e-01,  9.00000000e-02,  8.00000000e-02,\n",
       "         7.00000000e-02,  6.00000000e-02,  5.00000000e-02,\n",
       "         4.00000000e-02,  3.00000000e-02,  2.00000000e-02,\n",
       "         1.00000000e-02, -8.88178420e-16, -1.00000000e-02,\n",
       "        -2.00000000e-02, -3.00000000e-02, -4.00000000e-02,\n",
       "        -5.00000000e-02, -6.00000000e-02, -7.00000000e-02,\n",
       "        -8.00000000e-02, -9.00000000e-02, -1.00000000e-01,\n",
       "        -1.10000000e-01, -1.20000000e-01, -1.30000000e-01,\n",
       "        -1.40000000e-01, -1.50000000e-01, -1.60000000e-01,\n",
       "        -1.70000000e-01, -1.80000000e-01, -1.90000000e-01,\n",
       "        -2.00000000e-01, -2.10000000e-01, -2.20000000e-01,\n",
       "        -2.30000000e-01, -2.40000000e-01, -2.50000000e-01,\n",
       "        -2.60000000e-01, -2.70000000e-01, -2.80000000e-01,\n",
       "        -2.90000000e-01, -3.00000000e-01, -3.10000000e-01,\n",
       "        -3.20000000e-01, -3.30000000e-01, -3.40000000e-01,\n",
       "        -3.50000000e-01, -3.60000000e-01, -3.70000000e-01,\n",
       "        -3.80000000e-01, -3.90000000e-01, -4.00000000e-01,\n",
       "        -4.10000000e-01, -4.20000000e-01, -4.30000000e-01,\n",
       "        -4.40000000e-01, -4.50000000e-01, -4.60000000e-01,\n",
       "        -4.70000000e-01, -4.80000000e-01, -4.90000000e-01,\n",
       "        -5.00000000e-01, -5.10000000e-01, -5.20000000e-01,\n",
       "        -5.30000000e-01, -5.40000000e-01, -5.50000000e-01,\n",
       "        -5.60000000e-01, -5.70000000e-01, -5.80000000e-01,\n",
       "        -5.90000000e-01, -6.00000000e-01, -6.10000000e-01,\n",
       "        -6.20000000e-01, -6.30000000e-01, -6.40000000e-01,\n",
       "        -6.50000000e-01, -6.60000000e-01, -6.70000000e-01,\n",
       "        -6.80000000e-01, -6.90000000e-01, -7.00000000e-01,\n",
       "        -7.10000000e-01, -7.20000000e-01, -7.30000000e-01,\n",
       "        -7.40000000e-01, -7.50000000e-01, -7.60000000e-01,\n",
       "        -7.70000000e-01, -7.80000000e-01, -7.90000000e-01,\n",
       "        -8.00000000e-01, -8.10000000e-01, -8.20000000e-01,\n",
       "        -8.30000000e-01, -8.40000000e-01, -8.50000000e-01,\n",
       "        -8.60000000e-01, -8.70000000e-01, -8.80000000e-01,\n",
       "        -8.90000000e-01, -9.00000000e-01, -9.10000000e-01,\n",
       "        -9.20000000e-01, -9.30000000e-01, -9.40000000e-01,\n",
       "        -9.50000000e-01, -9.60000000e-01, -9.70000000e-01,\n",
       "        -9.80000000e-01, -9.90000000e-01],\n",
       "       [-1.00000000e+00, -9.90000000e-01, -9.80000000e-01,\n",
       "        -9.70000000e-01, -9.60000000e-01, -9.50000000e-01,\n",
       "        -9.40000000e-01, -9.30000000e-01, -9.20000000e-01,\n",
       "        -9.10000000e-01, -9.00000000e-01, -8.90000000e-01,\n",
       "        -8.80000000e-01, -8.70000000e-01, -8.60000000e-01,\n",
       "        -8.50000000e-01, -8.40000000e-01, -8.30000000e-01,\n",
       "        -8.20000000e-01, -8.10000000e-01, -8.00000000e-01,\n",
       "        -7.90000000e-01, -7.80000000e-01, -7.70000000e-01,\n",
       "        -7.60000000e-01, -7.50000000e-01, -7.40000000e-01,\n",
       "        -7.30000000e-01, -7.20000000e-01, -7.10000000e-01,\n",
       "        -7.00000000e-01, -6.90000000e-01, -6.80000000e-01,\n",
       "        -6.70000000e-01, -6.60000000e-01, -6.50000000e-01,\n",
       "        -6.40000000e-01, -6.30000000e-01, -6.20000000e-01,\n",
       "        -6.10000000e-01, -6.00000000e-01, -5.90000000e-01,\n",
       "        -5.80000000e-01, -5.70000000e-01, -5.60000000e-01,\n",
       "        -5.50000000e-01, -5.40000000e-01, -5.30000000e-01,\n",
       "        -5.20000000e-01, -5.10000000e-01, -5.00000000e-01,\n",
       "        -4.90000000e-01, -4.80000000e-01, -4.70000000e-01,\n",
       "        -4.60000000e-01, -4.50000000e-01, -4.40000000e-01,\n",
       "        -4.30000000e-01, -4.20000000e-01, -4.10000000e-01,\n",
       "        -4.00000000e-01, -3.90000000e-01, -3.80000000e-01,\n",
       "        -3.70000000e-01, -3.60000000e-01, -3.50000000e-01,\n",
       "        -3.40000000e-01, -3.30000000e-01, -3.20000000e-01,\n",
       "        -3.10000000e-01, -3.00000000e-01, -2.90000000e-01,\n",
       "        -2.80000000e-01, -2.70000000e-01, -2.60000000e-01,\n",
       "        -2.50000000e-01, -2.40000000e-01, -2.30000000e-01,\n",
       "        -2.20000000e-01, -2.10000000e-01, -2.00000000e-01,\n",
       "        -1.90000000e-01, -1.80000000e-01, -1.70000000e-01,\n",
       "        -1.60000000e-01, -1.50000000e-01, -1.40000000e-01,\n",
       "        -1.30000000e-01, -1.20000000e-01, -1.10000000e-01,\n",
       "        -1.00000000e-01, -9.00000000e-02, -8.00000000e-02,\n",
       "        -7.00000000e-02, -6.00000000e-02, -5.00000000e-02,\n",
       "        -4.00000000e-02, -3.00000000e-02, -2.00000000e-02,\n",
       "        -1.00000000e-02,  8.88178420e-16,  1.00000000e-02,\n",
       "         2.00000000e-02,  3.00000000e-02,  4.00000000e-02,\n",
       "         5.00000000e-02,  6.00000000e-02,  7.00000000e-02,\n",
       "         8.00000000e-02,  9.00000000e-02,  1.00000000e-01,\n",
       "         1.10000000e-01,  1.20000000e-01,  1.30000000e-01,\n",
       "         1.40000000e-01,  1.50000000e-01,  1.60000000e-01,\n",
       "         1.70000000e-01,  1.80000000e-01,  1.90000000e-01,\n",
       "         2.00000000e-01,  2.10000000e-01,  2.20000000e-01,\n",
       "         2.30000000e-01,  2.40000000e-01,  2.50000000e-01,\n",
       "         2.60000000e-01,  2.70000000e-01,  2.80000000e-01,\n",
       "         2.90000000e-01,  3.00000000e-01,  3.10000000e-01,\n",
       "         3.20000000e-01,  3.30000000e-01,  3.40000000e-01,\n",
       "         3.50000000e-01,  3.60000000e-01,  3.70000000e-01,\n",
       "         3.80000000e-01,  3.90000000e-01,  4.00000000e-01,\n",
       "         4.10000000e-01,  4.20000000e-01,  4.30000000e-01,\n",
       "         4.40000000e-01,  4.50000000e-01,  4.60000000e-01,\n",
       "         4.70000000e-01,  4.80000000e-01,  4.90000000e-01,\n",
       "         5.00000000e-01,  5.10000000e-01,  5.20000000e-01,\n",
       "         5.30000000e-01,  5.40000000e-01,  5.50000000e-01,\n",
       "         5.60000000e-01,  5.70000000e-01,  5.80000000e-01,\n",
       "         5.90000000e-01,  6.00000000e-01,  6.10000000e-01,\n",
       "         6.20000000e-01,  6.30000000e-01,  6.40000000e-01,\n",
       "         6.50000000e-01,  6.60000000e-01,  6.70000000e-01,\n",
       "         6.80000000e-01,  6.90000000e-01,  7.00000000e-01,\n",
       "         7.10000000e-01,  7.20000000e-01,  7.30000000e-01,\n",
       "         7.40000000e-01,  7.50000000e-01,  7.60000000e-01,\n",
       "         7.70000000e-01,  7.80000000e-01,  7.90000000e-01,\n",
       "         8.00000000e-01,  8.10000000e-01,  8.20000000e-01,\n",
       "         8.30000000e-01,  8.40000000e-01,  8.50000000e-01,\n",
       "         8.60000000e-01,  8.70000000e-01,  8.80000000e-01,\n",
       "         8.90000000e-01,  9.00000000e-01,  9.10000000e-01,\n",
       "         9.20000000e-01,  9.30000000e-01,  9.40000000e-01,\n",
       "         9.50000000e-01,  9.60000000e-01,  9.70000000e-01,\n",
       "         9.80000000e-01,  9.90000000e-01],\n",
       "       [-1.67000000e+00, -1.66000000e+00, -1.65000000e+00,\n",
       "        -1.64000000e+00, -1.63000000e+00, -1.62000000e+00,\n",
       "        -1.61000000e+00, -1.60000000e+00, -1.59000000e+00,\n",
       "        -1.58000000e+00, -1.57000000e+00, -1.56000000e+00,\n",
       "        -1.55000000e+00, -1.54000000e+00, -1.53000000e+00,\n",
       "        -1.52000000e+00, -1.51000000e+00, -1.50000000e+00,\n",
       "        -1.49000000e+00, -1.48000000e+00, -1.47000000e+00,\n",
       "        -1.46000000e+00, -1.45000000e+00, -1.44000000e+00,\n",
       "        -1.43000000e+00, -1.42000000e+00, -1.41000000e+00,\n",
       "        -1.40000000e+00, -1.39000000e+00, -1.38000000e+00,\n",
       "        -1.37000000e+00, -1.36000000e+00, -1.35000000e+00,\n",
       "        -1.34000000e+00, -1.33000000e+00, -1.32000000e+00,\n",
       "        -1.31000000e+00, -1.30000000e+00, -1.29000000e+00,\n",
       "        -1.28000000e+00, -1.27000000e+00, -1.26000000e+00,\n",
       "        -1.25000000e+00, -1.24000000e+00, -1.23000000e+00,\n",
       "        -1.22000000e+00, -1.21000000e+00, -1.20000000e+00,\n",
       "        -1.19000000e+00, -1.18000000e+00, -1.17000000e+00,\n",
       "        -1.16000000e+00, -1.15000000e+00, -1.14000000e+00,\n",
       "        -1.13000000e+00, -1.12000000e+00, -1.11000000e+00,\n",
       "        -1.10000000e+00, -1.09000000e+00, -1.08000000e+00,\n",
       "        -1.07000000e+00, -1.06000000e+00, -1.05000000e+00,\n",
       "        -1.04000000e+00, -1.03000000e+00, -1.02000000e+00,\n",
       "        -1.01000000e+00, -1.00000000e+00, -9.90000000e-01,\n",
       "        -9.80000000e-01, -9.70000000e-01, -9.60000000e-01,\n",
       "        -9.50000000e-01, -9.40000000e-01, -9.30000000e-01,\n",
       "        -9.20000000e-01, -9.10000000e-01, -9.00000000e-01,\n",
       "        -8.90000000e-01, -8.80000000e-01, -8.70000000e-01,\n",
       "        -8.60000000e-01, -8.50000000e-01, -8.40000000e-01,\n",
       "        -8.30000000e-01, -8.20000000e-01, -8.10000000e-01,\n",
       "        -8.00000000e-01, -7.90000000e-01, -7.80000000e-01,\n",
       "        -7.70000000e-01, -7.60000000e-01, -7.50000000e-01,\n",
       "        -7.40000000e-01, -7.30000000e-01, -7.20000000e-01,\n",
       "        -7.10000000e-01, -7.00000000e-01, -6.90000000e-01,\n",
       "        -6.80000000e-01, -6.70000000e-01, -6.60000000e-01,\n",
       "        -6.50000000e-01, -6.40000000e-01, -6.30000000e-01,\n",
       "        -6.20000000e-01, -6.10000000e-01, -6.00000000e-01,\n",
       "        -5.90000000e-01, -5.80000000e-01, -5.70000000e-01,\n",
       "        -5.60000000e-01, -5.50000000e-01, -5.40000000e-01,\n",
       "        -5.30000000e-01, -5.20000000e-01, -5.10000000e-01,\n",
       "        -5.00000000e-01, -4.90000000e-01, -4.80000000e-01,\n",
       "        -4.70000000e-01, -4.60000000e-01, -4.50000000e-01,\n",
       "        -4.40000000e-01, -4.30000000e-01, -4.20000000e-01,\n",
       "        -4.10000000e-01, -4.00000000e-01, -3.90000000e-01,\n",
       "        -3.80000000e-01, -3.70000000e-01, -3.60000000e-01,\n",
       "        -3.50000000e-01, -3.40000000e-01, -3.30000000e-01,\n",
       "        -3.20000000e-01, -3.10000000e-01, -3.00000000e-01,\n",
       "        -2.90000000e-01, -2.80000000e-01, -2.70000000e-01,\n",
       "        -2.60000000e-01, -2.50000000e-01, -2.40000000e-01,\n",
       "        -2.30000000e-01, -2.20000000e-01, -2.10000000e-01,\n",
       "        -2.00000000e-01, -1.90000000e-01, -1.80000000e-01,\n",
       "        -1.70000000e-01, -1.60000000e-01, -1.50000000e-01,\n",
       "        -1.40000000e-01, -1.30000000e-01, -1.20000000e-01,\n",
       "        -1.10000000e-01, -1.00000000e-01, -9.00000000e-02,\n",
       "        -8.00000000e-02, -7.00000000e-02, -6.00000000e-02,\n",
       "        -5.00000000e-02, -4.00000000e-02, -3.00000000e-02,\n",
       "        -2.00000000e-02, -1.00000000e-02,  1.44328993e-15,\n",
       "         1.00000000e-02,  2.00000000e-02,  3.00000000e-02,\n",
       "         4.00000000e-02,  5.00000000e-02,  6.00000000e-02,\n",
       "         7.00000000e-02,  8.00000000e-02,  9.00000000e-02,\n",
       "         1.00000000e-01,  1.10000000e-01,  1.20000000e-01,\n",
       "         1.30000000e-01,  1.40000000e-01,  1.50000000e-01,\n",
       "         1.60000000e-01,  1.70000000e-01,  1.80000000e-01,\n",
       "         1.90000000e-01,  2.00000000e-01,  2.10000000e-01,\n",
       "         2.20000000e-01,  2.30000000e-01,  2.40000000e-01,\n",
       "         2.50000000e-01,  2.60000000e-01,  2.70000000e-01,\n",
       "         2.80000000e-01,  2.90000000e-01,  3.00000000e-01,\n",
       "         3.10000000e-01,  3.20000000e-01]])"
      ]
     },
     "execution_count": 10,
     "metadata": {},
     "output_type": "execute_result"
    }
   ],
   "source": [
    "np.matmul(beta_0,np.ones((1,n_data))) + np.matmul(Omega_0,n1_in_mat)"
   ]
  },
  {
   "cell_type": "code",
   "execution_count": 11,
   "metadata": {},
   "outputs": [
    {
     "data": {
      "text/plain": [
       "array([[-1.0000000e+00, -9.8000000e-01, -9.6000000e-01, -9.4000000e-01,\n",
       "        -9.2000000e-01, -9.0000000e-01, -8.8000000e-01, -8.6000000e-01,\n",
       "        -8.4000000e-01, -8.2000000e-01, -8.0000000e-01, -7.8000000e-01,\n",
       "        -7.6000000e-01, -7.4000000e-01, -7.2000000e-01, -7.0000000e-01,\n",
       "        -6.8000000e-01, -6.6000000e-01, -6.4000000e-01, -6.2000000e-01,\n",
       "        -6.0000000e-01, -5.8000000e-01, -5.6000000e-01, -5.4000000e-01,\n",
       "        -5.2000000e-01, -5.0000000e-01, -4.8000000e-01, -4.6000000e-01,\n",
       "        -4.4000000e-01, -4.2000000e-01, -4.0000000e-01, -3.8000000e-01,\n",
       "        -3.6000000e-01, -3.4000000e-01, -3.2000000e-01, -3.0000000e-01,\n",
       "        -2.8000000e-01, -2.6000000e-01, -2.4000000e-01, -2.2000000e-01,\n",
       "        -2.0000000e-01, -1.8000000e-01, -1.6000000e-01, -1.4000000e-01,\n",
       "        -1.2000000e-01, -1.0000000e-01, -8.0000000e-02, -6.0000000e-02,\n",
       "        -4.0000000e-02, -2.0000000e-02,  8.8817842e-16,  2.0000000e-02,\n",
       "         4.0000000e-02,  6.0000000e-02,  8.0000000e-02,  1.0000000e-01,\n",
       "         1.2000000e-01,  1.4000000e-01,  1.6000000e-01,  1.8000000e-01,\n",
       "         2.0000000e-01,  2.2000000e-01,  2.4000000e-01,  2.6000000e-01,\n",
       "         2.8000000e-01,  3.0000000e-01,  3.2000000e-01,  3.4000000e-01,\n",
       "         3.6000000e-01,  3.8000000e-01,  4.0000000e-01,  4.2000000e-01,\n",
       "         4.4000000e-01,  4.6000000e-01,  4.8000000e-01,  5.0000000e-01,\n",
       "         5.2000000e-01,  5.4000000e-01,  5.6000000e-01,  5.8000000e-01,\n",
       "         6.0000000e-01,  6.2000000e-01,  6.4000000e-01,  6.6000000e-01,\n",
       "         6.8000000e-01,  7.0000000e-01,  7.2000000e-01,  7.4000000e-01,\n",
       "         7.6000000e-01,  7.8000000e-01,  8.0000000e-01,  8.2000000e-01,\n",
       "         8.4000000e-01,  8.6000000e-01,  8.8000000e-01,  9.0000000e-01,\n",
       "         9.2000000e-01,  9.4000000e-01,  9.6000000e-01,  9.8000000e-01,\n",
       "         1.0000000e+00,  9.7000000e-01,  9.4000000e-01,  9.1000000e-01,\n",
       "         8.8000000e-01,  8.5000000e-01,  8.2000000e-01,  7.9000000e-01,\n",
       "         7.6000000e-01,  7.3000000e-01,  7.0000000e-01,  6.7000000e-01,\n",
       "         6.4000000e-01,  6.1000000e-01,  5.8000000e-01,  5.5000000e-01,\n",
       "         5.2000000e-01,  4.9000000e-01,  4.6000000e-01,  4.3000000e-01,\n",
       "         4.0000000e-01,  3.7000000e-01,  3.4000000e-01,  3.1000000e-01,\n",
       "         2.8000000e-01,  2.5000000e-01,  2.2000000e-01,  1.9000000e-01,\n",
       "         1.6000000e-01,  1.3000000e-01,  1.0000000e-01,  7.0000000e-02,\n",
       "         4.0000000e-02,  1.0000000e-02, -2.0000000e-02, -5.0000000e-02,\n",
       "        -8.0000000e-02, -1.1000000e-01, -1.4000000e-01, -1.7000000e-01,\n",
       "        -2.0000000e-01, -2.3000000e-01, -2.6000000e-01, -2.9000000e-01,\n",
       "        -3.2000000e-01, -3.5000000e-01, -3.8000000e-01, -4.1000000e-01,\n",
       "        -4.4000000e-01, -4.7000000e-01, -5.0000000e-01, -5.3000000e-01,\n",
       "        -5.6000000e-01, -5.9000000e-01, -6.2000000e-01, -6.5000000e-01,\n",
       "        -6.8000000e-01, -7.1000000e-01, -7.4000000e-01, -7.7000000e-01,\n",
       "        -8.0000000e-01, -8.3000000e-01, -8.6000000e-01, -8.9000000e-01,\n",
       "        -9.2000000e-01, -9.5000000e-01, -9.8000000e-01, -1.0100000e+00,\n",
       "        -9.4700000e-01, -8.8400000e-01, -8.2100000e-01, -7.5800000e-01,\n",
       "        -6.9500000e-01, -6.3200000e-01, -5.6900000e-01, -5.0600000e-01,\n",
       "        -4.4300000e-01, -3.8000000e-01, -3.1700000e-01, -2.5400000e-01,\n",
       "        -1.9100000e-01, -1.2800000e-01, -6.5000000e-02, -2.0000000e-03,\n",
       "         6.1000000e-02,  1.2400000e-01,  1.8700000e-01,  2.5000000e-01,\n",
       "         3.1300000e-01,  3.7600000e-01,  4.3900000e-01,  5.0200000e-01,\n",
       "         5.6500000e-01,  6.2800000e-01,  6.9100000e-01,  7.5400000e-01,\n",
       "         8.1700000e-01,  8.8000000e-01,  9.4300000e-01,  1.0060000e+00]])"
      ]
     },
     "execution_count": 11,
     "metadata": {},
     "output_type": "execute_result"
    }
   ],
   "source": [
    "beta_1 + Omega_1@h1"
   ]
  },
  {
   "cell_type": "code",
   "execution_count": 12,
   "metadata": {},
   "outputs": [
    {
     "data": {
      "text/plain": [
       "array([[-1.0000000e+00, -9.8000000e-01, -9.6000000e-01, -9.4000000e-01,\n",
       "        -9.2000000e-01, -9.0000000e-01, -8.8000000e-01, -8.6000000e-01,\n",
       "        -8.4000000e-01, -8.2000000e-01, -8.0000000e-01, -7.8000000e-01,\n",
       "        -7.6000000e-01, -7.4000000e-01, -7.2000000e-01, -7.0000000e-01,\n",
       "        -6.8000000e-01, -6.6000000e-01, -6.4000000e-01, -6.2000000e-01,\n",
       "        -6.0000000e-01, -5.8000000e-01, -5.6000000e-01, -5.4000000e-01,\n",
       "        -5.2000000e-01, -5.0000000e-01, -4.8000000e-01, -4.6000000e-01,\n",
       "        -4.4000000e-01, -4.2000000e-01, -4.0000000e-01, -3.8000000e-01,\n",
       "        -3.6000000e-01, -3.4000000e-01, -3.2000000e-01, -3.0000000e-01,\n",
       "        -2.8000000e-01, -2.6000000e-01, -2.4000000e-01, -2.2000000e-01,\n",
       "        -2.0000000e-01, -1.8000000e-01, -1.6000000e-01, -1.4000000e-01,\n",
       "        -1.2000000e-01, -1.0000000e-01, -8.0000000e-02, -6.0000000e-02,\n",
       "        -4.0000000e-02, -2.0000000e-02,  8.8817842e-16,  2.0000000e-02,\n",
       "         4.0000000e-02,  6.0000000e-02,  8.0000000e-02,  1.0000000e-01,\n",
       "         1.2000000e-01,  1.4000000e-01,  1.6000000e-01,  1.8000000e-01,\n",
       "         2.0000000e-01,  2.2000000e-01,  2.4000000e-01,  2.6000000e-01,\n",
       "         2.8000000e-01,  3.0000000e-01,  3.2000000e-01,  3.4000000e-01,\n",
       "         3.6000000e-01,  3.8000000e-01,  4.0000000e-01,  4.2000000e-01,\n",
       "         4.4000000e-01,  4.6000000e-01,  4.8000000e-01,  5.0000000e-01,\n",
       "         5.2000000e-01,  5.4000000e-01,  5.6000000e-01,  5.8000000e-01,\n",
       "         6.0000000e-01,  6.2000000e-01,  6.4000000e-01,  6.6000000e-01,\n",
       "         6.8000000e-01,  7.0000000e-01,  7.2000000e-01,  7.4000000e-01,\n",
       "         7.6000000e-01,  7.8000000e-01,  8.0000000e-01,  8.2000000e-01,\n",
       "         8.4000000e-01,  8.6000000e-01,  8.8000000e-01,  9.0000000e-01,\n",
       "         9.2000000e-01,  9.4000000e-01,  9.6000000e-01,  9.8000000e-01,\n",
       "         1.0000000e+00,  9.7000000e-01,  9.4000000e-01,  9.1000000e-01,\n",
       "         8.8000000e-01,  8.5000000e-01,  8.2000000e-01,  7.9000000e-01,\n",
       "         7.6000000e-01,  7.3000000e-01,  7.0000000e-01,  6.7000000e-01,\n",
       "         6.4000000e-01,  6.1000000e-01,  5.8000000e-01,  5.5000000e-01,\n",
       "         5.2000000e-01,  4.9000000e-01,  4.6000000e-01,  4.3000000e-01,\n",
       "         4.0000000e-01,  3.7000000e-01,  3.4000000e-01,  3.1000000e-01,\n",
       "         2.8000000e-01,  2.5000000e-01,  2.2000000e-01,  1.9000000e-01,\n",
       "         1.6000000e-01,  1.3000000e-01,  1.0000000e-01,  7.0000000e-02,\n",
       "         4.0000000e-02,  1.0000000e-02, -2.0000000e-02, -5.0000000e-02,\n",
       "        -8.0000000e-02, -1.1000000e-01, -1.4000000e-01, -1.7000000e-01,\n",
       "        -2.0000000e-01, -2.3000000e-01, -2.6000000e-01, -2.9000000e-01,\n",
       "        -3.2000000e-01, -3.5000000e-01, -3.8000000e-01, -4.1000000e-01,\n",
       "        -4.4000000e-01, -4.7000000e-01, -5.0000000e-01, -5.3000000e-01,\n",
       "        -5.6000000e-01, -5.9000000e-01, -6.2000000e-01, -6.5000000e-01,\n",
       "        -6.8000000e-01, -7.1000000e-01, -7.4000000e-01, -7.7000000e-01,\n",
       "        -8.0000000e-01, -8.3000000e-01, -8.6000000e-01, -8.9000000e-01,\n",
       "        -9.2000000e-01, -9.5000000e-01, -9.8000000e-01, -1.0100000e+00,\n",
       "        -9.4700000e-01, -8.8400000e-01, -8.2100000e-01, -7.5800000e-01,\n",
       "        -6.9500000e-01, -6.3200000e-01, -5.6900000e-01, -5.0600000e-01,\n",
       "        -4.4300000e-01, -3.8000000e-01, -3.1700000e-01, -2.5400000e-01,\n",
       "        -1.9100000e-01, -1.2800000e-01, -6.5000000e-02, -2.0000000e-03,\n",
       "         6.1000000e-02,  1.2400000e-01,  1.8700000e-01,  2.5000000e-01,\n",
       "         3.1300000e-01,  3.7600000e-01,  4.3900000e-01,  5.0200000e-01,\n",
       "         5.6500000e-01,  6.2800000e-01,  6.9100000e-01,  7.5400000e-01,\n",
       "         8.1700000e-01,  8.8000000e-01,  9.4300000e-01,  1.0060000e+00]])"
      ]
     },
     "execution_count": 12,
     "metadata": {},
     "output_type": "execute_result"
    }
   ],
   "source": [
    "np.matmul(beta_1,np.ones((1,n_data))) + np.matmul(Omega_1,h1)"
   ]
  },
  {
   "cell_type": "markdown",
   "metadata": {
    "id": "qOcj2Rof-o20"
   },
   "source": [
    "Now we'll feed the output of the first network into the second one."
   ]
  },
  {
   "cell_type": "code",
   "execution_count": 13,
   "metadata": {
    "id": "ZRjWu8i9239X",
    "scrolled": true
   },
   "outputs": [
    {
     "data": {
      "image/png": "[encoded data removed]",
      "text/plain": [
       "<Figure size 432x288 with 1 Axes>"
      ]
     },
     "metadata": {
      "needs_background": "light"
     },
     "output_type": "display_data"
    }
   ],
   "source": [
    "# Now lets define some parameters and run the second neural network\n",
    "n2_theta_10 =  -0.6 ; n2_theta_11 = -1.0\n",
    "n2_theta_20 =  0.2  ; n2_theta_21 = 1.0\n",
    "n2_theta_30 =  -0.5  ; n2_theta_31 =  1.0\n",
    "n2_phi_0 = 0.5; n2_phi_1 = -1.0; n2_phi_2 = -1.5; n2_phi_3 = 2.0\n",
    "\n",
    "# We run the second neural network on the output of the first network\n",
    "n2_out, *_ = \\\n",
    "    shallow_1_1_3(n1_out, ReLU, n2_phi_0, n2_phi_1, n2_phi_2, n2_phi_3, n2_theta_10, n2_theta_11, n2_theta_20, n2_theta_21, n2_theta_30, n2_theta_31)\n",
    "# And then plot it\n",
    "plot_neural(n1_in, n2_out)"
   ]
  },
  {
   "cell_type": "code",
   "execution_count": 15,
   "metadata": {
    "id": "ZB2HTalOE40X",
    "scrolled": true
   },
   "outputs": [
    {
     "data": {
      "image/png": "[encoded data removed]",
      "text/plain": [
       "<Figure size 432x288 with 1 Axes>"
      ]
     },
     "metadata": {
      "needs_background": "light"
     },
     "output_type": "display_data"
    }
   ],
   "source": [
    "beta_0 = np.zeros((3,1))\n",
    "Omega_0 = np.zeros((3,1))\n",
    "beta_1 = np.zeros((3,1))\n",
    "Omega_1 = np.zeros((3,3))\n",
    "beta_2 = np.zeros((1,1))\n",
    "Omega_2 = np.zeros((1,3))\n",
    "\n",
    "# TODO Fill in the values of the beta and Omega matrices for the n1_theta, n1_phi, n2_theta, and n2_phi parameters\n",
    "# that define the composition of the two networks above (see eqn 4.5 for Omega1 and beta1 albeit in different notation)\n",
    "# !!! NOTE THAT MATRICES ARE CONVENTIONALLY INDEXED WITH a_11 IN THE TOP LEFT CORNER, BUT NDARRAYS START AT [0,0] SO EVERYTHING IS OFFSET\n",
    "# To get you started I've filled in a few:\n",
    "beta_0[:,0] = np.array([n1_theta_10, n1_theta_20, n1_theta_30])\n",
    "Omega_0[:,0] = np.array([n1_theta_11, n1_theta_21, n1_theta_31])\n",
    "\n",
    "#n1_phi_0\n",
    "#n1_Omega_2 : phi_w\n",
    "#n2_Omega_1 : theta\n",
    "\n",
    "n2_Omega_1 = np.array([n2_theta_11, n2_theta_21, n2_theta_31]).reshape(-1, 1)\n",
    "n1_Omega_2 = np.array([n1_phi_1, n1_phi_2, n1_phi_3]).reshape(-1, 1)\n",
    "n2_beta_0 = np.array([n2_theta_10, n2_theta_20, n2_theta_30]).reshape(-1,1)\n",
    "\n",
    "beta_1 = n2_beta_0 + Omega_0*n1_phi_0\n",
    "Omega_1 = n2_Omega_1 @ n1_Omega_2.transpose()\n",
    "\n",
    "beta_2[0,0] = n2_phi_0\n",
    "Omega_2 = np.array([n2_phi_1, n2_phi_2, n2_phi_3])\n",
    "\n",
    "# Make sure that input data matrix has different inputs in its columns\n",
    "n_data = n1_in.size\n",
    "n_dim_in = 1\n",
    "n1_in_mat = np.reshape(n1_in,(n_dim_in,n_data))\n",
    "\n",
    "# This runs the network for ALL of the inputs, x at once so we can draw graph (hence extra np.ones term)\n",
    "h1 = ReLU(np.matmul(beta_0,np.ones((1,n_data))) + np.matmul(Omega_0,n1_in_mat))\n",
    "h2 = ReLU(np.matmul(beta_1,np.ones((1,n_data))) + np.matmul(Omega_1,h1))\n",
    "n1_out = np.matmul(beta_2,np.ones((1,n_data))) + np.matmul(Omega_2,h2)\n",
    "\n",
    "# Draw the network and check that it looks the same as the non-matrix version\n",
    "plot_neural(n1_in, n1_out)"
   ]
  },
  {
   "cell_type": "markdown",
   "metadata": {
    "id": "0VANqxH2kyS4"
   },
   "source": [
    "Now let's make a deep network with 3 hidden layers.  It will have $D_i=4$ inputs, $D_1=5$ neurons  in the first layer, $D_2=2$ neurons in the second layer and $D_3=4$ neurons in the third layer, and $D_o = 1$ output.  Consult figure 4.6 and equations 4.15 for guidance."
   ]
  },
  {
   "cell_type": "code",
   "execution_count": 16,
   "metadata": {
    "id": "RdBVAc_Rj22-"
   },
   "outputs": [
    {
     "name": "stdout",
     "output_type": "stream",
     "text": [
      "Input data points\n",
      "[[-0.91041517 -1.32491931  1.28266566  3.11956894]\n",
      " [-0.81078413 -0.63486664  0.76607322 -1.55794712]\n",
      " [ 1.4091668  -0.54517579  0.8933144   2.64895906]\n",
      " [-0.1046633  -2.01431012  0.79962821 -0.84242924]]\n",
      "Output data points\n",
      "[[-14.1276555   -5.8180342   -0.33498403  -6.58744896]]\n"
     ]
    }
   ],
   "source": [
    "# define sizes\n",
    "D_i=4; D_1=5; D_2=2; D_3=4; D_o=1\n",
    "# We'll choose the inputs and parameters of this network randomly using np.random.normal\n",
    "# For example, we'll set the input using\n",
    "n_data = 4;\n",
    "x = np.random.normal(size=(D_i, n_data))\n",
    "# TODO initialize the parameters randomly with the correct sizes\n",
    "# Replace the lines below\n",
    "beta_0 = np.random.normal(size=(D_1,1))\n",
    "Omega_0 = np.random.normal(size=(D_1,D_i))\n",
    "beta_1 = np.random.normal(size=(D_2,1))\n",
    "Omega_1 = np.random.normal(size=(D_2,D_1))\n",
    "beta_2 = np.random.normal(size=(D_3,1))\n",
    "Omega_2 = np.random.normal(size=(D_3,D_2))\n",
    "beta_3 = np.random.normal(size=(D_o,1))\n",
    "Omega_3 = np.random.normal(size=(D_o,D_3))\n",
    "\n",
    "\n",
    "# If you set the parameters to the correct sizes, the following code will run\n",
    "h1 = ReLU(np.matmul(beta_0,np.ones((1,n_data))) + np.matmul(Omega_0,x));\n",
    "h2 = ReLU(np.matmul(beta_1,np.ones((1,n_data))) + np.matmul(Omega_1,h1));\n",
    "h3 = ReLU(np.matmul(beta_2,np.ones((1,n_data))) + np.matmul(Omega_2,h2));\n",
    "y = np.matmul(beta_3,np.ones((1,n_data))) + np.matmul(Omega_3,h3)\n",
    "\n",
    "if h1.shape[0] is not D_1 or h1.shape[1] is not n_data:\n",
    "  print(\"h1 is wrong shape\")\n",
    "if h2.shape[0] is not D_2 or h1.shape[1] is not n_data:\n",
    "  print(\"h2 is wrong shape\")\n",
    "if h3.shape[0] is not D_3 or h1.shape[1] is not n_data:\n",
    "  print(\"h3 is wrong shape\")\n",
    "if y.shape[0] is not D_o or h1.shape[1] is not n_data:\n",
    "  print(\"Output is wrong shape\")\n",
    "\n",
    "# Print the inputs and outputs\n",
    "print(\"Input data points\")\n",
    "print(x)\n",
    "print (\"Output data points\")\n",
    "print(y)"
   ]
  }
 ],
 "metadata": {
  "colab": {
   "authorship_tag": "ABX9TyO2DaD75p+LGi7WgvTzjrk1",
   "include_colab_link": true,
   "provenance": []
  },
  "kernelspec": {
   "display_name": "Python 3",
   "language": "python",
   "name": "python3"
  },
  "language_info": {
   "codemirror_mode": {
    "name": "ipython",
    "version": 3
   },
   "file_extension": ".py",
   "mimetype": "text/x-python",
   "name": "python",
   "nbconvert_exporter": "python",
   "pygments_lexer": "ipython3",
   "version": "3.8.5"
  }
 },
 "nbformat": 4,
 "nbformat_minor": 1
}
